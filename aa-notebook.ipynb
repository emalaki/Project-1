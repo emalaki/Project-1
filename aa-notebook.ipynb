{
 "cells": [
  {
   "cell_type": "code",
   "execution_count": null,
   "id": "9e8f872b",
   "metadata": {},
   "outputs": [],
   "source": [
    "#import dependencies"
   ]
  },
  {
   "cell_type": "code",
   "execution_count": null,
   "id": "84ea932d",
   "metadata": {},
   "outputs": [],
   "source": [
    "#call in csv file and set up API keys"
   ]
  },
  {
   "cell_type": "code",
   "execution_count": null,
   "id": "c69aea6f",
   "metadata": {},
   "outputs": [],
   "source": [
    "#clean up data if needed"
   ]
  },
  {
   "cell_type": "code",
   "execution_count": null,
   "id": "cc09da6e",
   "metadata": {},
   "outputs": [],
   "source": [
    "#display results for microplastics over time"
   ]
  },
  {
   "cell_type": "code",
   "execution_count": null,
   "id": "cfc65580",
   "metadata": {},
   "outputs": [],
   "source": [
    "#display results for cancer rates over time "
   ]
  },
  {
   "cell_type": "code",
   "execution_count": null,
   "id": "efca4bc4",
   "metadata": {},
   "outputs": [],
   "source": [
    "#display regression plots "
   ]
  }
 ],
 "metadata": {
  "kernelspec": {
   "display_name": "Python 3 (ipykernel)",
   "language": "python",
   "name": "python3"
  },
  "language_info": {
   "codemirror_mode": {
    "name": "ipython",
    "version": 3
   },
   "file_extension": ".py",
   "mimetype": "text/x-python",
   "name": "python",
   "nbconvert_exporter": "python",
   "pygments_lexer": "ipython3",
   "version": "3.10.10"
  }
 },
 "nbformat": 4,
 "nbformat_minor": 5
}
